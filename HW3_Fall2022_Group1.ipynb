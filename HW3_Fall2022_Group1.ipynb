{
  "nbformat": 4,
  "nbformat_minor": 0,
  "metadata": {
    "colab": {
      "private_outputs": true,
      "provenance": [],
      "collapsed_sections": [
        "RqhpdagcQ28W",
        "qKY32KN1480h",
        "cwfs6zwTLqUG",
        "sry4yHNzTChy",
        "7Wj3r0m90AZu",
        "4eErnXMr5DYb",
        "YMHPjghx-w9f",
        "OK3P0LeO5apw"
      ]
    },
    "kernelspec": {
      "name": "python3",
      "display_name": "Python 3"
    }
  },
  "cells": [
    {
      "cell_type": "markdown",
      "metadata": {
        "id": "rvObaKKCzGwK"
      },
      "source": [
        "# Homework 3\n",
        "Louis Lu, Angela Liu, Winci Liang, Angelina Ying, Kristen Li\n",
        "\n",
        "Complete the exercises working in your group. You may share the notebook with your group members using the share button in the upper right.\n",
        "\n",
        "\n",
        "\n",
        "\n",
        "\n"
      ]
    },
    {
      "cell_type": "code",
      "source": [
        "from os.path import basename, exists\n",
        "import pandas as pd\n",
        "import numpy as np\n",
        "\n",
        "import matplotlib.pyplot as plt\n",
        "import seaborn as sns\n",
        "\n",
        "from scipy.stats import linregress"
      ],
      "metadata": {
        "id": "FNgArYqYKUaD"
      },
      "execution_count": null,
      "outputs": []
    },
    {
      "cell_type": "markdown",
      "metadata": {
        "id": "RqhpdagcQ28W"
      },
      "source": [
        "# Question 1"
      ]
    },
    {
      "cell_type": "markdown",
      "source": [
        "## Plotting practice\n",
        "These questions follow the examples presented in Notebook 9 from the Textbook. See that notebook for the dataset and template code.\n",
        "*  Generate a violin plot that shows the distribution of height in each income group. Can you see a relationship between these variables?\n",
        "* Make a boxplot that shows the distribution of weight in each income group. Plot the y-axis on a logarithmic scale.\n",
        "* Generate a visualization of the relationship between weight and vegetable consumption."
      ],
      "metadata": {
        "id": "qKY32KN1480h"
      }
    },
    {
      "cell_type": "code",
      "source": [
        "# Import the dataset\n",
        "def download(url):\n",
        "    filename = basename(url)\n",
        "\n",
        "    # Check if file already exists to avoid re-downloading\n",
        "    if not exists(filename):\n",
        "        from urllib.request import urlretrieve\n",
        "\n",
        "        # Download the file and save it locally\n",
        "        local, _ = urlretrieve(url, filename)\n",
        "        print('Downloaded ' + local)\n",
        "\n",
        "# Download the specified file\n",
        "download('https://github.com/AllenDowney/' +\n",
        "         'ElementsOfDataScience/raw/master/brfss.hdf5')\n",
        "\n",
        "# Load the downloaded HDF5 file into a pandas DataFrame\n",
        "brfss = pd.read_hdf('brfss.hdf5', 'brfss')\n",
        "\n",
        "# Output the shape of the DataFrame\n",
        "brfss.shape\n"
      ],
      "metadata": {
        "id": "kZV5h8M2Klt2"
      },
      "execution_count": null,
      "outputs": []
    },
    {
      "cell_type": "code",
      "source": [
        "# Load the headers of the dataframe to gain a basic understanding of the composition of the dataset\n",
        "brfss.head()"
      ],
      "metadata": {
        "id": "d_zZZ85oK0Ad"
      },
      "execution_count": null,
      "outputs": []
    },
    {
      "cell_type": "code",
      "source": [
        "# Graphing the Violin Plot\n",
        "# Set the aesthetic style of the plots to whitegrid\n",
        "sns.set(style=\"whitegrid\")\n",
        "\n",
        "# Create a new figure for the violin plot\n",
        "plt.figure(figsize=(8, 6))\n",
        "\n",
        "# Create a violin plot of the distribution of HTM4 (height) values for each income group (INCOME2)\n",
        "sns.violinplot(x=\"INCOME2\", y=\"HTM4\", data=brfss, inner=\"quart\", palette=\"Set1\")\n",
        "\n",
        "# Labeling the axes and the plot\n",
        "plt.xlabel(\"Group\")\n",
        "plt.ylabel(\"Value\")\n",
        "plt.title(\"Violin Plot of HTM4 Grouped by INCOME2\")\n"
      ],
      "metadata": {
        "id": "IDP_PPIQKI3R"
      },
      "execution_count": null,
      "outputs": []
    },
    {
      "cell_type": "markdown",
      "source": [
        "## Interpretation of the violin plot\n",
        "This violin plot shows the distribution of height (HTM4) in each income group (INCOME2).\n",
        "\n",
        "### Overall Observations:\n",
        "\n",
        "All income groups have data points in the range of around 90 to 230 and there's noticeable variability in the distribution of height across different income groups.\n",
        "\n",
        "### Group-wise Observations:\n",
        "\n",
        "Group 1 (Red): This group has a wide distribution around the median (the middle horizontal line) which is indicating a high density of data points around that value.\n",
        "\n",
        "Group 2 (Blue), Group 3 (Green), Group 4 (Purple), Group 5 (Orange): The median, quartiles, and the shape of distribution for these three groups are similar. The medians for these group seems to be slightly higher than that of Group 1 and similar to Group 1 the wide distribution is around the median.\n",
        "\n",
        "Group 6 (Yellow) and Group 7 (Brown): While the median for these two groups are only sligtly higher than that of groups 2,3,4,5, the upper and lower quartiles are high than group 2,3,4,5 by a lot. Also, group 6 and 7 have smaller ranges withint the groups.\n",
        "\n",
        "Group 8 (Pink): The median and upper and lower quartiles are the highest among all groups.\n",
        "\n",
        "### Inferring on relationship between height and income:\n",
        "\n",
        "Since the higher the income group, the higher the median/quartiles of the height, there would be a positive correlation between income and height."
      ],
      "metadata": {
        "id": "cwfs6zwTLqUG"
      }
    },
    {
      "cell_type": "code",
      "source": [
        "# Graphing the Box Plot\n",
        "\n",
        "# Plotting a boxplot for weight distribution across income groups\n",
        "sns.boxplot(x=\"INCOME2\", y=\"WTKG3\", data=brfss)\n",
        "\n",
        "# Setting the y-axis to logarithmic scale\n",
        "plt.yscale(\"log\")\n",
        "\n",
        "# Setting labels and title\n",
        "plt.xlabel(\"Income Group\")\n",
        "plt.ylabel(\"Weight (log scale)\")\n",
        "plt.title(\"Boxplot of Weight in Each Income Group\")"
      ],
      "metadata": {
        "id": "yan8_xp-L4oJ"
      },
      "execution_count": null,
      "outputs": []
    },
    {
      "cell_type": "markdown",
      "source": [
        "## Interpretation of the Box Plot\n",
        "\n",
        "### Functionality of Box Plot\n",
        "Similar to the violine plot, box plot also provides us information on the median, upper/lower quartiles, and the range. However, different from the violine plot, the box plot also shows the outliers. For example, in Group 4, 5, 6, there are a couple outliers below the $1.5 \\times \\text{IQR}$ from the lower quartile.\n",
        "\n",
        "### Relationship between income group and logged weight\n",
        "All income groups have a similar IQR for weight, but the median weight slightly increases as income group rises."
      ],
      "metadata": {
        "id": "sry4yHNzTChy"
      }
    },
    {
      "cell_type": "code",
      "source": [
        "# Graphing the Scatter Plot\n",
        "\n",
        "# Plotting a scatter plot for vegetable consumption and weight with transparency level at 0.5\n",
        "sns.scatterplot(x=\"_VEGESU1\", y=\"WTKG3\", data=brfss, alpha = 0.5)\n",
        "\n",
        "# Setting labels and title\n",
        "plt.xlabel(\"Vegetable Consumption\")\n",
        "plt.ylabel(\"Weight\")\n",
        "plt.title(\"Weight versus Vegetable Consumption\")"
      ],
      "metadata": {
        "id": "9Oom6EQNMdlj"
      },
      "execution_count": null,
      "outputs": []
    },
    {
      "cell_type": "markdown",
      "source": [
        "## Interpretation of the Scatter Plot\n",
        "\n",
        "### Functionality of Scatter Plot\n",
        "Different from both box plot and violine plot, the scatterplot shows each datapoint on the plot, which provide as a visualization for the relationship between the variables.\n",
        "\n",
        "### Relationship between vegetable consumption and weight\n",
        "The scatterplot shows that increased vegetable consumption correlates with lower weight -- as we move to the right on the x-axis, the weight moves down the y-axis as well.\n"
      ],
      "metadata": {
        "id": "6gkWpFOBVjwo"
      }
    },
    {
      "cell_type": "markdown",
      "metadata": {
        "id": "7Wj3r0m90AZu"
      },
      "source": [
        "# Question 2"
      ]
    },
    {
      "cell_type": "markdown",
      "source": [
        "## Correlation\n",
        "Recall that correlation only measures linear relationships. If the relationship is nonlinear, correlation generally underestimates how strong it is.\n",
        "\n",
        "To demonstrate, generate another example of fake data that is different from the data presented in the text which was $y=x^2$. Explain what is the association between the variables (e.g. $y=x^4$, $y=sin(x)$) and why the correlation is low or zero despite there being a clear relationship between the variables."
      ],
      "metadata": {
        "id": "4eErnXMr5DYb"
      }
    },
    {
      "cell_type": "code",
      "source": [
        "# Generate Fake Data:\n",
        "x_sample = np.linspace(-10,10,1000)\n",
        "y_sample = np.cos(x_sample)"
      ],
      "metadata": {
        "id": "bKvOAiyxN2A-"
      },
      "execution_count": null,
      "outputs": []
    },
    {
      "cell_type": "code",
      "source": [
        "# Plot the fake data:\n",
        "plt.clf()\n",
        "plt.plot(x_sample, y_sample, 'o', alpha=0.5)"
      ],
      "metadata": {
        "id": "mMWta6ZePtW9"
      },
      "execution_count": null,
      "outputs": []
    },
    {
      "cell_type": "code",
      "source": [
        "corr = np.corrcoef(x_sample, y_sample)[0,1]\n",
        "print(f\"Correlation between x_sample and y_sample: {corr}\")"
      ],
      "metadata": {
        "id": "Oj8hCpLfOl1r"
      },
      "execution_count": null,
      "outputs": []
    },
    {
      "cell_type": "markdown",
      "source": [
        "In our example, we choose the function $y = cos(x)$. This is a periodic function, so the the y value would oscilliate between 1 and -1 periodically as x changes. However, the calcualted corrlation coeffcient is almost 0 This is because the correlation coefficient can only measure the monotonous linear relationship between the independent and dependent variables. So it cannot capture the periodic patterns."
      ],
      "metadata": {
        "id": "rOmMjah0Ra8C"
      }
    },
    {
      "cell_type": "markdown",
      "metadata": {
        "id": "YMHPjghx-w9f"
      },
      "source": [
        "# Question 3"
      ]
    },
    {
      "cell_type": "markdown",
      "source": [
        "## Simple regression\n",
        "Following up on the exercises from Notebook 9, who do you think eats more vegetables, people with low income, or people with high income? To answer this question, make a scatter plot with vegetable servings versus income, then estimate the slope of the relationship between vegetable consumption and income.\n",
        "\n",
        "What is the slope of the regression line? Write a sentence that explains what this slope means in the context of the question we are exploring.\n",
        "\n",
        "Finally, plot the regression line on top of the scatter plot."
      ],
      "metadata": {
        "id": "OK3P0LeO5apw"
      }
    },
    {
      "cell_type": "code",
      "source": [
        "# Graphing the Scatter Plot\n",
        "sns.scatterplot(x=\"INCOME2\", y=\"_VEGESU1\", data=brfss, alpha = 0.5)\n",
        "plt.xlabel(\"Income Level\")\n",
        "plt.ylabel(\"Vegertable Consumptions\")\n",
        "plt.title(\"Vegetable consumptions versus Income Level\")"
      ],
      "metadata": {
        "id": "sl05p_zXS7-9"
      },
      "execution_count": null,
      "outputs": []
    },
    {
      "cell_type": "code",
      "source": [
        "# Remove rows with missing values\n",
        "brfss= brfss.dropna()"
      ],
      "metadata": {
        "id": "B7q27GwxUrgE"
      },
      "execution_count": null,
      "outputs": []
    },
    {
      "cell_type": "code",
      "source": [
        "# Perform linear regression between 'INCOME2' and '_VEGESU1'\n",
        "res1 = linregress(brfss['INCOME2'], brfss['_VEGESU1'])\n",
        "\n",
        "# Extract the slope and intercept from the regression results\n",
        "slope, intercept = res1.slope, res1.intercept\n",
        "\n",
        "# Convert the regression results to a dictionary format for easy viewing\n",
        "res1._asdict()\n"
      ],
      "metadata": {
        "id": "O-PlNjrKSWJj"
      },
      "execution_count": null,
      "outputs": []
    },
    {
      "cell_type": "code",
      "source": [
        "sns.scatterplot(x=\"INCOME2\", y=\"_VEGESU1\", data=brfss, alpha = 0.5)\n",
        "\n",
        "x_vals = np.array([brfss['INCOME2'].min(), brfss['INCOME2'].max()])\n",
        "y_vals = intercept + slope * x_vals\n",
        "plt.plot(x_vals, y_vals, color='red')\n",
        "\n",
        "plt.xlabel(\"Income Level\")\n",
        "plt.ylabel(\"Vegetable Consumptions\")\n",
        "plt.title(\"Vegetable consumptions versus Income Level\")"
      ],
      "metadata": {
        "id": "6M81Uj7XVbDt"
      },
      "execution_count": null,
      "outputs": []
    },
    {
      "cell_type": "markdown",
      "source": [
        "##Interpretion of Linear Regression Results:\n",
        "\n",
        "Slope (0.06899):  As INCOME2 increases by 1 unit, _VEGESU1 is expected to increase by roughly 0.06899 units.\n",
        "\n",
        "Intercept (1.5356): When the income level is zero, the predicted value of vegetable consumption is approximately 1.5356.\n",
        "\n",
        "R-value (0.1172): A small, positive r value indicates weak positive linear correlation between the variables."
      ],
      "metadata": {
        "id": "JfNLUJ05V-tz"
      }
    },
    {
      "cell_type": "markdown",
      "metadata": {
        "id": "SCKWrIAM_IXR"
      },
      "source": [
        "# Question 4"
      ]
    },
    {
      "cell_type": "markdown",
      "source": [
        "## AWS ML APIs: Part I\n",
        "Find an AWS ML API from the ones available at to you using your credits (see [this list](https://emory-my.sharepoint.com/:b:/g/personal/jajaco3_emory_edu/ERpKVDYVZt1AuwUMOp0dx8EBtNQI_JXQvDHPQcB8M8SDkA?e=x1TSgF) of all services available via credits).\n",
        "\n",
        "Some of them will be hard to work with, so, I would like you to try working with whichever interest your group members and then explain in your solution here which ML services you were interested in and why, which you tried to use but couldn't use, e.g. there may a data format which was too difficult to work with, limited tutorial, etc.\n",
        "\n",
        "Note, you may need access to AWS resources in some of the tutorials. For those, you will need to use AWS SageMaker and other AWS tools via the AWS Console. I will be happy to meet with your group to assist you on this part."
      ],
      "metadata": {
        "id": "vnS9wGPO5fDc"
      }
    },
    {
      "cell_type": "markdown",
      "source": [
        "## Answer: AWS Translate\n",
        "\n",
        "**AWS Translate**\n",
        "\n",
        "Our group is interested in working with the ML service Amazon Translate, which is a neural machine translation service for translating text to and from English across a breadth of supported languages. The machine translation engine has been trained on a wide variety of content across different domains to produce quality translations that serve any industry need.\n",
        "\n",
        "The service has wide applications. For instance, it provides a managed, continually trained solution that we can use to translate unstructured text documents or to build applications that work in multiple languages. Amazon Translate can also automatically detect the language used in the source text by calling Amazon Comprehend.\n",
        "\n",
        "We want to try the functions '**' translate_client.translate_text(), '** which translates input text from the source language to the target language, and **' translate_client.start_text_translation_job(), '** through which we can input documents with different source languages and specify one or more target languages.\n",
        "\n",
        "However, Our group wasn't able to call the functions from AWS Translate API via SageMaker. An error message was received:\n",
        "\n",
        "      *ClientError: An error occurred (AccessDeniedException) when calling the StartTextTranslationJob operation: User: arn:aws:sts::096611606074:assumed-role/LabRole/SageMaker is not authorized to perform: translate:StartTextTranslationJob because no identity-based policy allows the translate:StartTextTranslationJob action*"
      ],
      "metadata": {
        "id": "jAVUEblC28Tm"
      }
    },
    {
      "cell_type": "markdown",
      "metadata": {
        "id": "Skt2EJio2oNG"
      },
      "source": [
        "# Question 5"
      ]
    },
    {
      "cell_type": "markdown",
      "source": [
        "## AWS ML APIs: Part II\n",
        "In the [lecture notebook](https://github.com/jeremyallenjacobson/qtm350/blob/master/CourseAssets/Rekognition_notebook/AWS-ML-API.ipynb) we walked you through setting up Sagemaker in the Educate account in order to use the AWS ML APIs.\n",
        "\n",
        "Your task in this question is to select another ML service from AWS and then, using the documentation, create a walkthrough similar to the one from lecture for the ML service that you picked.\n",
        "\n",
        "In your walkthrough, demonstrate how to call the service from within a Sagemaker notebook using either the AWS CLI or the Python SDK (your pick).\n",
        "\n",
        "As always, be sure to narrate your code with lots of text, images, and links to share. Explain which ML APIs you were interested in, which you tried but couldn't use, and potential use cases that you would like to explore as well as data sources you would like to apply them to.\n",
        "\n",
        "Finally, because we can't run Sagemaker code in a colab notebook, convert your walkthrough notebook from this exercise into a .html file using `jupyter nbconvert` as the command line. Then, create an S3 bucket, upload the .html file to your bucket, and follow the instructions [here](https://docs.aws.amazon.com/AmazonS3/latest/dev/HowDoIWebsiteConfiguration.html) for making the .html available as a webpage.\n",
        "\n",
        " Share the link to it in this notebook, so that I and other students can read your walkthrough."
      ],
      "metadata": {
        "id": "4EPRT0A05vI0"
      }
    },
    {
      "cell_type": "markdown",
      "source": [
        "## Answer: Walkthrough"
      ],
      "metadata": {
        "id": "fO_97Wgv5yZX"
      }
    },
    {
      "cell_type": "markdown",
      "source": [
        "[Here](https://newbusketforqtm350.s3.amazonaws.com/walkthrough.html) is the link to the notebook in the html format."
      ],
      "metadata": {
        "id": "8UK_U99k6Oyr"
      }
    }
  ]
}